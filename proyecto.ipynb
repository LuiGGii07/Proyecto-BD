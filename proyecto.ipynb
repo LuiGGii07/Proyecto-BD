import numpy as np
import random
import spark
import findspark
from pyspark.sql import SparkSession

findspark.init() 
spark = SparkSession.builder.appName("Test_spark").master("local[*]").getOrCreate()
spark

df = spark.read.csv('/content/drive/MyDrive/movies_dataset.csv', sep=',', header=True)
df.createOrReplaceTempView ('registros')

#Mensaje Inicial
print('Hi, Im here to recommend you a movie of your desire, What genre of movie do you want me to recommend?')
print('Action, Adventure, Animation, Children, Comedy, Crime, Documentary, Drama, Fantasy, Film-Noir,\nHorror, IMAX, Musical, Mystery, Romance, Sci-Fi, Thriller, War, Western or type quit to exit')
genre = input()

#Ciclo donde se ejecuta el programa
while not genre == "quit":
    if genre != "quit" :
      print("Try one of this 10 ", genre, " Movies:") 
      indice = random.randint(1, 58947)
      spark.sql(f"""SELECT * FROM registros where genre = '{genre}' AND _c0 > '{indice}'""").show(10, truncate=False)
    print('Action, Adventure, Animation, Children, Comedy, Crime, Documentary, Drama, Fantasy, Film-Noir,\nHorror, IMAX, Musical, Mystery, Romance, Sci-Fi, Thriller, War, Western or type quit to exit')
    genre = input()
